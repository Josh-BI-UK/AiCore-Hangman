{
 "cells": [
  {
   "attachments": {},
   "cell_type": "markdown",
   "metadata": {},
   "source": [
    "<font size = 3> AiCore Project </font><br> \n",
    "<font size = 2> Python coding project by: [Joshua Payne](https://github.com/Josh-BI-UK) </font>\n",
    "\n",
    "# Hangman Game - Milestone 2"
   ]
  },
  {
   "attachments": {},
   "cell_type": "markdown",
   "metadata": {},
   "source": [
    "TODO Task 1: Define list of possible words, Create a file named milestone_2.py. <br>\n",
    "[✔︎] 1.1. Create a list containing the names of your 5 favorite fruits. <br>\n",
    "[✔︎] 1.2. Assign this list to a variable called word_list. <br>\n",
    "[✔︎] 1.3. Print out the newly created list to the standard output (screen). <br>\n"
   ]
  },
  {
   "cell_type": "code",
   "execution_count": 6,
   "metadata": {},
   "outputs": [
    {
     "name": "stdout",
     "output_type": "stream",
     "text": [
      "['Apple', 'Orange', 'Plum', 'Breadfruit', 'Banana', 'Pineapples', 'Kiwis', 'Cherries']\n"
     ]
    }
   ],
   "source": [
    "import random \n",
    "word_list = ['Apple','Orange','Plum','Breadfruit','Banana','Pineapples','Kiwis','Cherries']\n",
    "print(word_list)"
   ]
  },
  {
   "attachments": {},
   "cell_type": "markdown",
   "metadata": {},
   "source": [
    "TODO Task 2: Choose a random word from list\n",
    "[✔︎] 2.2. Write import random on the first line. <br>\n",
    "[✔︎] 2.3. Create the random.choice method and pass the word_list variable into the choice method. <br>\n",
    "[✔︎] 2.4. Assign the randomly generated word to a variable called word.<br>\n",
    "[✔︎] 2.5. Print out word to the standard output. Run the code several times and observe the words printed out after each run. <br>"
   ]
  },
  {
   "cell_type": "code",
   "execution_count": 7,
   "metadata": {},
   "outputs": [
    {
     "name": "stdout",
     "output_type": "stream",
     "text": [
      "Banana\n"
     ]
    }
   ],
   "source": [
    "# Variable \"word\" defined using random method.\n",
    "# Random method used to select one word from \"word_list\" randomly.\n",
    "word = random.choice(word_list)\n",
    "print(word)"
   ]
  },
  {
   "attachments": {},
   "cell_type": "markdown",
   "metadata": {},
   "source": [
    "TODO Task 3: Ask the user for input.<br>\n",
    "[✔︎] 3.1. Using the input function, ask the user to enter a single letter.<br>\n",
    "[✔︎] 3.2 Assign the input to a variable called guess.<br>"
   ]
  },
  {
   "cell_type": "code",
   "execution_count": null,
   "metadata": {},
   "outputs": [],
   "source": [
    "guess = input(\"Please select one letter or type 'quite' to end game:: \").strip()"
   ]
  },
  {
   "attachments": {},
   "cell_type": "markdown",
   "metadata": {},
   "source": [
    "TODO Task 4: Check that the input is a single character<br>\n",
    "[✔︎] 4.1. Create an if statement that checks if the length of the input is equal to 1,\n",
    "and the input is an alphabet.<br>\n",
    "[✔︎] 4.2 In the body of the if statement, print a message that says \"Good guess!\".<br>\n",
    "[✔︎] 4.3 Create an else block that prints \"Oops! That is not a valid input.\",\n",
    "if the preceeding conditions are not met.<br>"
   ]
  },
  {
   "cell_type": "code",
   "execution_count": null,
   "metadata": {},
   "outputs": [],
   "source": [
    "#Invalid letter selection error messages:\n",
    "err_msg_1 = \"Oops! That is not a valid input,\"\n",
    "err_msg_2 = \"please select only 1 [A-Z] letter\"\n",
    "\n",
    "if guess.isnumeric() == True:\n",
    "    print(err_msg_1)\n",
    "    print(err_msg_1)\n",
    "    vaild_guess = \"No\"\n",
    "elif guess == guess.lower() == \"quite\":\n",
    "    print(\"Ok game will quite!\")\n",
    "elif guess.isalpha() == False:\n",
    "    print(err_msg_1)\n",
    "    print(err_msg_1)\n",
    "    vaild_guess = \"No\"\n",
    "elif len(guess) > 1:\n",
    "    print(\"Only one [A to Z] letter allowed\")\n",
    "    print(err_msg_1)\n",
    "    print(err_msg_1)\n",
    "else:\n",
    "    print(\"great choice\")\n",
    "    vaild_guess = \"Yes\""
   ]
  }
 ],
 "metadata": {
  "kernelspec": {
   "display_name": "base",
   "language": "python",
   "name": "python3"
  },
  "language_info": {
   "codemirror_mode": {
    "name": "ipython",
    "version": 3
   },
   "file_extension": ".py",
   "mimetype": "text/x-python",
   "name": "python",
   "nbconvert_exporter": "python",
   "pygments_lexer": "ipython3",
   "version": "3.9.13 (main, Aug 25 2022, 18:29:29) \n[Clang 12.0.0 ]"
  },
  "orig_nbformat": 4,
  "vscode": {
   "interpreter": {
    "hash": "1c63fc448cbcef6ea75575590d1315f3aed7a7d40ffa8180ee43b982def9dff1"
   }
  }
 },
 "nbformat": 4,
 "nbformat_minor": 2
}
