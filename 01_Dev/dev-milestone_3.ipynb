{
 "cells": [
  {
   "attachments": {},
   "cell_type": "markdown",
   "metadata": {},
   "source": [
    "<font size = 3> AiCore Project </font><br> \n",
    "<font size = 2> Python coding project by: [Joshua Payne](https://github.com/Josh-BI-UK) </font>\n",
    "\n",
    "# Hangman Game - Milestone 3\n"
   ]
  },
  {
   "cell_type": "code",
   "execution_count": 12,
   "metadata": {},
   "outputs": [
    {
     "name": "stdout",
     "output_type": "stream",
     "text": [
      "['Apple', 'Orange', 'Plum', 'Breadfruit', 'Banana', 'Pineapples', 'Kiwis', 'Cherries']\n"
     ]
    }
   ],
   "source": [
    "import random \n",
    "word_list = ['Apple','Orange','Plum','Breadfruit','Banana','Pineapples','Kiwis','Cherries']\n",
    "print(word_list)"
   ]
  },
  {
   "cell_type": "code",
   "execution_count": 13,
   "metadata": {},
   "outputs": [
    {
     "name": "stdout",
     "output_type": "stream",
     "text": [
      "Pineapples\n"
     ]
    }
   ],
   "source": [
    "# Variable \"word\" defined using random method.\n",
    "# Random method used to select one word from \"word_list\" randomly.\n",
    "word = random.choice(word_list)\n",
    "print(word)"
   ]
  },
  {
   "cell_type": "code",
   "execution_count": null,
   "metadata": {},
   "outputs": [],
   "source": [
    "#Variables defined for the invalid letter selection error messages:\n",
    "err_msg_1 = \"Invalid letter,\"\n",
    "err_msg_2 = \"Please, enter a single alphabetical character.\""
   ]
  },
  {
   "attachments": {},
   "cell_type": "markdown",
   "metadata": {},
   "source": [
    "TODO Task 1: Write code that will continuously ask the user for a letter and validate it. Create a new script called `milestone_3.py`. This file will contain the code for this milestone.<br>\n",
    "\n",
    "[✔︎] 1.1 Create a `while` loop and set the condition to True. Setting the condition to `True` ensures that the code run continuously. In the body of the loop, write the code required for the following steps.<br>\n",
    "[✔︎] 1.2 Ask the user to `guess` a letter and assign this to a variable called `guess`.<br>\n",
    "[✔︎] 1.3 Check that the `guess` is a single, alphabetical character. <br>\n",
    "[✔︎] 1.4 If the `guess` passes the checks, break out of the loop.<br>\n",
    "[✔︎] 1.5 If the `guess` does not pass the checks, then print a message saying \"Invalid letter. Please, enter a single alphabetical character.\"<br>"
   ]
  },
  {
   "attachments": {},
   "cell_type": "markdown",
   "metadata": {},
   "source": [
    "TODO Task 2: Check whether the letter guessed by the user is in the secret word that was randomly chosen by the computer.<br>\n",
    "For example, if the user guesses the letter \"a\" and the secret word is \"apple\", then your code should check if \"a\" is in \"apple\".<br>\n",
    "\n",
    "[✔︎] 2.1 Create an `if` statement that checks if the guess is in the word.<br>\n",
    "[✔︎] 2.2 In the body of the `if` statement, print a message saying \"Good guess! `{guess}` is in the word.\". Obviously, format the string to show the actual guess instead of {guess}.<br>\n",
    "[✔︎] 2.3 Create an `else` block that prints a message saying \"Sorry, `{guess}` is not in the word. Try again.\" This block of code will run if the guess is not in the word.<br>"
   ]
  },
  {
   "attachments": {},
   "cell_type": "markdown",
   "metadata": {},
   "source": [
    "TODO Task 3: Create functions to run the checks<br>\n",
    "Good job so far! But your code probably doesn't look great. It's hard to tell which lines do what.<br>\n",
    "\n",
    "Create 2 functions, `check_guess` and `ask_for_input` functions which contain the code for those two things.The `check_guess` function will take the guessed letter as an argument and check if the letter is in the word.<br>\n",
    "\n",
    "[✔︎] 3.1 Define a function called `check_guess`. pass in the `guess` as a parameter for the function. Write the code for the following steps in the body of this function.<br>\n",
    "[✔︎] 3.2 Convert the `guess` into lower case.<br>\n",
    "[✔︎] 3.3 Move the code that you wrote to check if the guess is in the word into this function block.<br>\n",
    "[✔︎] 3.4 Define a function called `ask_for_input`.<br>\n",
    "[✔︎] 3.5 Move the code that you wrote in the `Iteratively check if the input is a valid guess` task into this function block.<br>\n",
    "[✔︎] 3.6 Outside the while loop, but within this function, call the `check_guess` function to check if the guess is in the word. Don't forget to pass in the guess as an argument to the method.<br>\n",
    "[✔︎] 3.7 Outside the function, call the `ask_for_input` function to test your code.<br>"
   ]
  },
  {
   "cell_type": "code",
   "execution_count": 14,
   "metadata": {},
   "outputs": [],
   "source": [
    "# Define a function called check_guess. \n",
    "# Pass in the guess as a parameter for the function.\n",
    "def check_guess(guess):\n",
    "    if guess in word.lower():\n",
    "        print(f\"Good guess!: '{guess}' is in the word.\")\n",
    "    else:\n",
    "        print(f\"Sorry, `{guess}` is not in the word\")\n",
    "    pass\n",
    "\n"
   ]
  },
  {
   "cell_type": "code",
   "execution_count": 15,
   "metadata": {},
   "outputs": [],
   "source": [
    "#  Define a function called ask_for_input.\n",
    "# -- Logic used --\n",
    "# While loop used to ask for input and tests if input is a valid alphabet letter.\n",
    "# Loop controlled by \"valid_guess\" variable, when it is \"No\",... \n",
    "# loop stays True and continues.\n",
    "def ask_for_input():\n",
    "    vaild_guess = \"No\"\n",
    "    while vaild_guess != \"Yes\":\n",
    "        guess = input(\"Please select one letter or type 'quite' to end game:: \").strip()\n",
    "        if guess.isnumeric() == True:\n",
    "            print(err_msg_1)\n",
    "            print(err_msg_1)\n",
    "            vaild_guess = \"No\"\n",
    "        elif guess == guess.lower() == \"quite\":\n",
    "            print(\"Ok game will quite!\")\n",
    "            break\n",
    "        elif guess.isalpha() == False:\n",
    "            print(err_msg_1)\n",
    "            print(err_msg_1)\n",
    "            vaild_guess = \"No\"\n",
    "        elif len(guess) > 1:\n",
    "            print(\"Only one [A to Z] letter allowed\")\n",
    "            print(err_msg_1)\n",
    "            print(err_msg_1)\n",
    "        else:\n",
    "            print(\"Thank you!\")\n",
    "            vaild_guess = \"Yes\"\n",
    "    check_fx = check_guess(guess)\n"
   ]
  },
  {
   "cell_type": "code",
   "execution_count": null,
   "metadata": {},
   "outputs": [
    {
     "name": "stdout",
     "output_type": "stream",
     "text": [
      "great choice\n",
      "Sorry, `h` is not in the word\n"
     ]
    }
   ],
   "source": [
    "# call the '.ask_for_input' function to test your code.\n",
    "test1 = ask_for_input()"
   ]
  },
  {
   "attachments": {},
   "cell_type": "markdown",
   "metadata": {},
   "source": [
    "#### Josh Practice code:<br>\n",
    "\n",
    "The following code block is intended to test a method for checking if a user's presented guessed letter [\"`test_user_one_letter`\"] can be found within the randomly chosen word, which has been processed to only show unique letters [\"`unique_letters_test`\"] .<br>\n",
    "<br>\n",
    "\n",
    "```python\n",
    "test_user_one_letter = \"x\"\n",
    "test_word = \"Banana\"\n",
    "unique_letters_test = set(test_word)\n",
    "print(unique_letters_test)\n",
    "\n",
    "if test_user_one_letter in unique_letters_test:\n",
    "    print(f\"Correct guess for letter: {test_user_one_letter}\")\n",
    "else:\n",
    "    print(f\"Opps wrong choice: {test_user_one_letter}\")\n",
    "```"
   ]
  }
 ],
 "metadata": {
  "kernelspec": {
   "display_name": "base",
   "language": "python",
   "name": "python3"
  },
  "language_info": {
   "codemirror_mode": {
    "name": "ipython",
    "version": 3
   },
   "file_extension": ".py",
   "mimetype": "text/x-python",
   "name": "python",
   "nbconvert_exporter": "python",
   "pygments_lexer": "ipython3",
   "version": "3.9.13"
  },
  "orig_nbformat": 4,
  "vscode": {
   "interpreter": {
    "hash": "1c63fc448cbcef6ea75575590d1315f3aed7a7d40ffa8180ee43b982def9dff1"
   }
  }
 },
 "nbformat": 4,
 "nbformat_minor": 2
}
