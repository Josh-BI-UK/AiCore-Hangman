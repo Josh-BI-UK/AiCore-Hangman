{
 "cells": [
  {
   "attachments": {},
   "cell_type": "markdown",
   "metadata": {},
   "source": [
    "<font size = 3> AiCore Project </font><br> \n",
    "<font size = 2> Python coding project by: [Joshua Payne](https://github.com/Josh-BI-UK) </font>\n",
    "\n",
    "# Hangman Game - Milestone 4\n",
    "Use the Object Oriented Programming (OOP) paradigm to develop a complete Hnagman game.\n",
    "<br> ---<br>\n",
    "<font size=1><b>\n",
    "Denotes:<br><i>\n",
    "[✔︎] = completed task.<br> \n",
    "[ ] = uncompleted task.\n",
    "</b></i></font>\n",
    "<br> ---<br>"
   ]
  },
  {
   "cell_type": "code",
   "execution_count": 1,
   "metadata": {},
   "outputs": [],
   "source": [
    "# Import prerequisite modules, i.e. \"random\" module.\n",
    "import random "
   ]
  },
  {
   "cell_type": "code",
   "execution_count": 2,
   "metadata": {},
   "outputs": [
    {
     "name": "stdout",
     "output_type": "stream",
     "text": [
      "['Apple', 'Orange', 'Plum', 'Breadfruit', 'Banana', 'Pineapples', 'Kiwis', 'Cherries', 'Strawberry', 'Lychee']\n"
     ]
    }
   ],
   "source": [
    "# Create \"word_list variable\"\n",
    "WORD_LIST = ['Apple','Orange','Plum','Breadfruit','Banana','Pineapples','Kiwis','Cherries','Strawberry','Lychee']\n",
    "print(WORD_LIST)"
   ]
  },
  {
   "cell_type": "code",
   "execution_count": 3,
   "metadata": {},
   "outputs": [],
   "source": [
    "class Hangman:\n",
    "    def __init__(self,word_list= WORD_LIST,num_lives= 5):\n",
    "        self.word_list = word_list\n",
    "        self.num_lives = num_lives\n",
    "        #self.word = random.choice(word_list).lower() # commented out during testing\n",
    "        self.word = 'Banana'.lower() # For testing purposes, this word has been hardcoded in.\n",
    "        self.words_guessed = list(\"_\"*len(self.word))\n",
    "        self.num_letters = len(set(self.word))\n",
    "        self.num_lives = num_lives\n",
    "        self.list_of_guesses = []\n",
    "\n",
    "  \n",
    "    def ask_for_input(self):\n",
    "        # Create invaild letter seslection - error messages\n",
    "        err_msg_1 = \"Invalid letter,\"\n",
    "        err_msg_2 = \"Please, enter a single alphabetical character.\"\n",
    "        \n",
    "        while True:\n",
    "            self.guess = input(\"Please select one letter or type 'quit' to end game: \").strip()\n",
    "            self.guess = self.guess.lower()\n",
    "\n",
    "            if not(self.guess.isalpha() and len(self.guess)==1):\n",
    "                print(err_msg_1)\n",
    "                print(err_msg_2,end='\\n')\n",
    "\n",
    "            elif self.guess in self.list_of_guesses:\n",
    "                 print(\"You already tried that letter!\")\n",
    "                 print(\"Try a different guess!\",end='\\n')\n",
    "\n",
    "            elif self.guess == \"quit\":\n",
    "                print(\"Ok game will quit!\")\n",
    "                break\n",
    "            \n",
    "            else:\n",
    "                print(\"Thank you!\")\n",
    "                print(\"==> Checking secret word now....\",end='\\n\\n')\n",
    "                self.check_guess(self.guess)\n",
    "                break\n",
    "\n",
    "    def check_guess(self, guess):\n",
    "        if self.guess in self.word:\n",
    "            print(f\"Good guess!: '{self.guess}' is in the word.\",end='\\n')\n",
    "            self.num_letters = self.num_letters -1\n",
    "            for xIndex, xLetter in enumerate(self.word):\n",
    "                if xLetter == self.guess:\n",
    "                    self.words_guessed[xIndex] = self.guess\n",
    "                    #print(f\"Secret Word: {self.words_guessed}\")\n",
    "                    #print(\"~ ~ ~ ~ ~ ~ ~ ~ ~\",end='\\n')\n",
    "                #else:\n",
    "                   #break\n",
    "        else:\n",
    "            print(f\"Sorry, '{self.guess}' is not in the secret word.\")\n",
    "            self.num_lives = self.num_lives - 1\n",
    "            \n",
    "        self.list_of_guesses.append(self.guess)\n",
    "        print(f\"==> Letters guessed so far: \",set(self.list_of_guesses),end='\\n')\n",
    "        print(\"~ ~ ~ ~ ~ ~ ~ ~ ~\",end='\\n')\n",
    "        print(f\"Secret Word: {self.words_guessed}\")\n",
    "        print(\"~ ~ ~ ~ ~ ~ ~ ~ ~\",end='\\n')\n",
    "        print(f\"You have: {self.num_lives} lives remaining.\",end='\\n')\n",
    "        print(f\"You have: {self.num_letters} letters still to guess.\",end='\\n')\n",
    "\n",
    "\n",
    "            "
   ]
  },
  {
   "attachments": {},
   "cell_type": "markdown",
   "metadata": {},
   "source": [
    "**TODO Task 1: Create the class**\n",
    "<br>Ask the user for a letter and validate it. Create a new script called `milestone_4.py`. This file will contain the code for this milestone.<br>\n",
    "\n",
    "**[✔︎] 1.1** Create a new script called `milestone_4.py`. This file will contain the code for the third milestone.<br>\n",
    "**[✔︎] 1.2** Inside the class, create an `__init__` method to initialise the attributes of the class. Pass in `word_list` and `num_lives` as parameters. Make `num_lives` a default parameter and set the value to `5`.<br>\n",
    "**[✔︎] 1.3** Initialise the following attributes:<br>\n",
    "+ [✔︎]a. `word`: The word to be guessed, picked randomly from the `word_list`. Remember to import the random module into your script.\n",
    "+ [✔︎]b. `word_guessed`: type: list:- A list of the letters of the word, with `_` for each letter not yet guessed. For example, \n",
    "    ..if the word is 'apple', the `word_guessed` list would be `['_', '_', '_', '_', '_']`. If the player guesses 'a', the list would be `['a', '_', '_', '_', '_']`.\n",
    "+ [✔︎]c. `num_letters:`: type: int:-  The number of UNIQUE letters in the word that have not been guessed yet.\n",
    "+ [✔︎]d. `num_lives:`: type: int:- The number of lives the player has at the start of the game.\n",
    "+ [✔︎]e. `word_list:`: type: list:- A list of words.\n",
    "+ [✔︎]f. `list_of_guesses:`: type: list:- A list of the guesses that have already been tried. Set this to an empty list initially."
   ]
  },
  {
   "cell_type": "code",
   "execution_count": 4,
   "metadata": {},
   "outputs": [],
   "source": [
    "my_test_game = Hangman()"
   ]
  },
  {
   "cell_type": "code",
   "execution_count": 7,
   "metadata": {},
   "outputs": [
    {
     "name": "stdout",
     "output_type": "stream",
     "text": [
      "Thank you!\n",
      "==> Checking secret word now....\n",
      "\n",
      "Good guess!: 'a' is in the word.\n",
      "Secret Word: ['b', 'a', 'n', 'a', 'n', 'a']\n",
      "~ ~ ~ ~ ~ ~ ~ ~ ~\n",
      "You have: 5 lives remaining.\n",
      "You have: 0 letters still to guess.\n"
     ]
    }
   ],
   "source": [
    "my_test_game.ask_for_input()"
   ]
  },
  {
   "cell_type": "code",
   "execution_count": null,
   "metadata": {},
   "outputs": [],
   "source": [
    "print(f\"Secret Word: {my_test_game.words_guessed}\")"
   ]
  },
  {
   "attachments": {},
   "cell_type": "markdown",
   "metadata": {},
   "source": [
    "**TODO Task 2: Create the methods for running the checks**\n",
    "<br>In this task, you will create a method that will ask the user to guess a letter and another method that will check if the guess is in the word.<br>\n",
    " Remember that a method is a function that is defined inside a class.<br>\n",
    "\n",
    "**[✔︎] 2.1** Define a method called `check_guess`. Pass the `guess` to the method as a parameter. In the body of the method, write the code for the following steps:\n",
    "\n",
    "+ [✔︎]a. Convert the guessed letter to `lower` case.\n",
    "+ [✔︎]b. Create an `if` statement that checks if the `guess` is in the `word`.\n",
    "+ [✔︎]c. In the body of the `if` statement, `print` a message saying `\"Good guess! {guess} is in the word.\"`\n",
    "\n",
    "You will continue with the logic of the `check_guess` method in the next task. For now, let's create the `ask_for_input `method.\n",
    "\n",
    "**[✔︎] 2.2** Define a method called `ask_for_input.` In the body of the method, do the following:\n",
    "\n",
    "+ [✔︎]a. Create a `while` loop and set the condition to `True`.\n",
    "+ [✔︎]b. Ask the user to `input` a guess letter and assign this to a variable called `\"guess\"`.\n",
    "+ [✔︎]c. Create an `if` statement that runs if the guess is `NOT` a `single alphabetical character`.\n",
    "+ [✔︎]d. In the body of the `if` statement, `print` a message saying `\"Invalid letter. Please, enter a single alphabetical character.\"`\n",
    "+ [✔︎]e. Create an `elif` statement that checks if the `guess` is already `in` the `list_of_guesses`.\n",
    "+ [✔︎]f. In the body of the elif statement, `print` a message saying `\"You already tried that letter!\"`.\n",
    "\n",
    "If the guess is a single alphabetical character and it's not already in the `list_of_guesses`:\n",
    "\n",
    "+ [✔︎]a. Create an `else` block and call the `check_guess method`. **Remember to pass the guess as an argument to this method**.\n",
    "+ [✔︎]b. Add the `guess` to the ``list_of_guesses`.\n",
    "\n",
    "**[✔︎] 2.3**  Call the `ask_for_input` method to test your code.\n",
    "That was a lot! Keep going, you are almost there.\n",
    "\n"
   ]
  },
  {
   "attachments": {},
   "cell_type": "markdown",
   "metadata": {},
   "source": [
    "**TODO Task 3:** Define what happens if the letters is in the word<br>\n",
    "**[✔︎] 3.1** Return to your `check_guess` method and extend it to replace the underscore(s) in the `word_guessed` with the letter guesssed by the user.<br>\n",
    "\n",
    "In the `if` block of your `check_guess method`, after your `print` statement, do the following:\n",
    "\n",
    "+ [✔︎]a. Create a `for`-loop that will loop through each letter in the `word`.\n",
    "+ [✔︎]b. Within the `for`-loop, do the following:\n",
    "    * Create an `if` statement that checks if the letter is equal to the guess.\n",
    "    * In the if block, replace the corresponding `\"_\"` in the `word_guessed` with the guess. _HINT: You can index the word_guessed at the position of the letter and assign it to the letter._\n",
    "+ [✔︎]e. Outside the `for`-loop, reduce the variable `num_letters` by `1`."
   ]
  },
  {
   "attachments": {},
   "cell_type": "markdown",
   "metadata": {},
   "source": [
    "**TODO Task 4: Define what happens if the letter is NOT in the word**\n",
    "<br>Define what happens if the guess is not in the word you are trying to guess.<br>\n",
    "\n",
    "**[] 4.1** In the `check_guess` method, Create an `else` statement.<br>\n",
    "**[] 4.2** Within the `else` block:<br>\n",
    "+ a. Reduce `\"num_lives\"` by `1`.<br>\n",
    "+ b. `print` a message saying `\"Sorry, {letter} is not in the word.\"`<br>\n",
    "+ c. `print` another message saying `\"You have {num_lives} lives left.\"`<br>\n",
    "\n",
    "**[] 4.3** Lastly, `append` the `guess` to the `list_of_guesses`. Ensure you do this outside the `else` block so that the letter can be appended to the `list_of_guesses `in both conditions."
   ]
  },
  {
   "attachments": {},
   "cell_type": "markdown",
   "metadata": {},
   "source": [
    "**TODO Task 5: Update your documentation**<br>\n",
    "**[] 5.1** Add a section to your `README` file that explains how you defined the functions you created.<br>"
   ]
  }
 ],
 "metadata": {
  "kernelspec": {
   "display_name": "base",
   "language": "python",
   "name": "python3"
  },
  "language_info": {
   "codemirror_mode": {
    "name": "ipython",
    "version": 3
   },
   "file_extension": ".py",
   "mimetype": "text/x-python",
   "name": "python",
   "nbconvert_exporter": "python",
   "pygments_lexer": "ipython3",
   "version": "3.9.13 (main, Aug 25 2022, 18:29:29) \n[Clang 12.0.0 ]"
  },
  "orig_nbformat": 4,
  "vscode": {
   "interpreter": {
    "hash": "1c63fc448cbcef6ea75575590d1315f3aed7a7d40ffa8180ee43b982def9dff1"
   }
  }
 },
 "nbformat": 4,
 "nbformat_minor": 2
}
