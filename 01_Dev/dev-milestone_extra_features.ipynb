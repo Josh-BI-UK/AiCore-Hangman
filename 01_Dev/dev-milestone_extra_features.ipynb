{
 "cells": [
  {
   "attachments": {},
   "cell_type": "markdown",
   "metadata": {},
   "source": [
    "<font size = 3> AiCore Project </font><br> \n",
    "<font size = 2> Python coding project by: [Joshua Payne](https://github.com/Josh-BI-UK) </font>\n",
    "\n",
    "# Hangman Game - Extra Features\n",
    "To improve my hangman game, I decided to add a difficulty level selector, us a text file as the source data for my words list and to introduce the \"classic hangman doddle image\" as a representation of the players' lives.\n",
    "<br> ---<br>\n",
    "<font size=1><b>\n",
    "Denotes:<br>\n",
    "<i>\n",
    "[✔︎] = completed task.<br> \n",
    "[ ] = uncompleted task.\n",
    "</b></i></font>\n",
    "<br> ---<br>"
   ]
  },
  {
   "cell_type": "code",
   "execution_count": 11,
   "metadata": {},
   "outputs": [
    {
     "name": "stdout",
     "output_type": "stream",
     "text": [
      "\n",
      " __    __       ___      .__   __.   _______ .___  ___.      ___      .__   __. \n",
      "|  |  |  |     /   \\     |  \\ |  |  /  _____||   \\/   |     /   \\     |  \\ |  | \n",
      "|  |__|  |    /  ^  \\    |   \\|  | |  |  __  |  \\  /  |    /  ^  \\    |   \\|  | \n",
      "|   __   |   /  /_\\  \\   |  . `  | |  | |_ | |  |\\/|  |   /  /_\\  \\   |  . `  | \n",
      "|  |  |  |  /  _____  \\  |  |\\   | |  |__| | |  |  |  |  /  _____  \\  |  |\\   | \n",
      "|__|  |__| /__/     \\__\\ |__| \\__|  \\______| |__|  |__| /__/     \\__\\ |__| \\__| \n",
      "                                                                                \n",
      "\n"
     ]
    }
   ],
   "source": [
    "# Using a great online tool called \"ASCII art generator\", to create graphic like title, using ascii characters.\n",
    "# Link: https://patorjk.com/software/taag/#p=display&f=Star%20Wars&t=Hangman\n",
    "file_hangman_title = open(file=\"ascii_hangman_Title.txt\",mode=\"r\")\n",
    "raw_title = file_hangman_title.read()\n",
    "file_hangman_title.close()\n",
    "print(raw_title)"
   ]
  },
  {
   "cell_type": "code",
   "execution_count": 18,
   "metadata": {},
   "outputs": [
    {
     "name": "stdout",
     "output_type": "stream",
     "text": [
      "\n",
      "$$\\      $$\\           $$\\       $$\\                                     $$\\     $$\\                         $$\\      $$\\  $$$$$$\\  $$\\   $$\\ $$\\ \n",
      "$$ | $\\  $$ |          $$ |      $$ |                                    \\$$\\   $$  |                        $$ | $\\  $$ |$$  __$$\\ $$$\\  $$ |$$ |\n",
      "$$ |$$$\\ $$ | $$$$$$\\  $$ | $$$$$$$ | $$$$$$\\  $$$$$$$\\   $$$$$$\\         \\$$\\ $$  /$$$$$$\\  $$\\   $$\\       $$ |$$$\\ $$ |$$ /  $$ |$$$$\\ $$ |$$ |\n",
      "$$ $$ $$\\$$ |$$  __$$\\ $$ |$$  __$$ |$$  __$$\\ $$  __$$\\ $$  __$$\\         \\$$$$  /$$  __$$\\ $$ |  $$ |      $$ $$ $$\\$$ |$$ |  $$ |$$ $$\\$$ |$$ |\n",
      "$$$$  _$$$$ |$$$$$$$$ |$$ |$$ /  $$ |$$ /  $$ |$$ |  $$ |$$$$$$$$ |         \\$$  / $$ /  $$ |$$ |  $$ |      $$$$  _$$$$ |$$ |  $$ |$$ \\$$$$ |\\__|\n",
      "$$$  / \\$$$ |$$   ____|$$ |$$ |  $$ |$$ |  $$ |$$ |  $$ |$$   ____|          $$ |  $$ |  $$ |$$ |  $$ |      $$$  / \\$$$ |$$ |  $$ |$$ |\\$$$ |    \n",
      "$$  /   \\$$ |\\$$$$$$$\\ $$ |\\$$$$$$$ |\\$$$$$$  |$$ |  $$ |\\$$$$$$$\\           $$ |  \\$$$$$$  |\\$$$$$$  |      $$  /   \\$$ | $$$$$$  |$$ | \\$$ |$$\\ \n",
      "\\__/     \\__| \\_______|\\__| \\_______| \\______/ \\__|  \\__| \\_______|          \\__|   \\______/  \\______/       \\__/     \\__| \\______/ \\__|  \\__|\\__|\n",
      "                                                                                                                                                  \n",
      "                                                                                                                                                  \n",
      "                                                                                                                                                  \n",
      "\n"
     ]
    }
   ],
   "source": [
    "#Using the ASCII art generator, you can create graphics with ascii characters. I used it to create a cool looking \"weldone you won!\" message.\n",
    "# Link: https://patorjk.com/software/taag/#p=display&f=Big%20Money-nw&t=Weldone%20You%20WON!\n",
    "file_hangman_win_msg = open(file=\"ascii_hangman_win_message.txt\",mode=\"r\")\n",
    "raw_win_msg = file_hangman_win_msg.read()\n",
    "file_hangman_win_msg.close()\n",
    "print(raw_win_msg)"
   ]
  },
  {
   "cell_type": "code",
   "execution_count": 13,
   "metadata": {},
   "outputs": [],
   "source": [
    "hangman_doddle_pic = ['''\n",
    "  +---+\n",
    "  |   |\n",
    "      |\n",
    "      |\n",
    "      |\n",
    "      |\n",
    "=========''', '''\n",
    "  +---+\n",
    "  |   |\n",
    "  O   |\n",
    "      |\n",
    "      |\n",
    "      |\n",
    "=========''', '''\n",
    "  +---+\n",
    "  |   |\n",
    "  O   |\n",
    "  |   |\n",
    "      |\n",
    "      |\n",
    "=========''', '''\n",
    "  +---+\n",
    "  |   |\n",
    "  O   |\n",
    " /|   |\n",
    "      |\n",
    "      |\n",
    "=========''', '''\n",
    "  +---+\n",
    "  |   |\n",
    "  O   |\n",
    " /|\\  |\n",
    "      |\n",
    "      |\n",
    "=========''', '''\n",
    "  +---+\n",
    "  |   |\n",
    "  O   |\n",
    " /|\\  |\n",
    " /    |\n",
    "      |\n",
    "=========''', '''\n",
    "  +---+\n",
    "  |   |\n",
    "  O   |\n",
    " /|\\  |\n",
    " / \\  |\n",
    "      |\n",
    "=========''']"
   ]
  },
  {
   "cell_type": "code",
   "execution_count": 15,
   "metadata": {},
   "outputs": [
    {
     "name": "stdout",
     "output_type": "stream",
     "text": [
      "\n",
      "  +---+\n",
      "  |   |\n",
      "      |\n",
      "      |\n",
      "      |\n",
      "      |\n",
      "=========\n"
     ]
    }
   ],
   "source": [
    "print(hangman_doddle_pic[0])"
   ]
  },
  {
   "cell_type": "code",
   "execution_count": 9,
   "metadata": {},
   "outputs": [
    {
     "name": "stdout",
     "output_type": "stream",
     "text": [
      "['Apple ', '  Orange        ', 'Plum', 'Breadfruit ', 'Banana', 'Pineapple  ', 'Kiwi', '   Cherry', 'Pear']\n"
     ]
    }
   ],
   "source": [
    "\n",
    "# opening file containing words list in read mode\n",
    "file_word_list = open(file=\"word_list_fruits.txt\",mode=\"r\")\n",
    "\n",
    "# reading the file\n",
    "raw_data = file_word_list.read()\n",
    "\n",
    "# replacing end of line('/n') with ' ' and\n",
    "# splitting the text it further when '.' is seen.\n",
    "split_data_list = raw_data.replace('\\n', '').split(\",\")\n",
    "file_word_list.close()\n",
    "\n",
    "print(split_data_list)"
   ]
  },
  {
   "cell_type": "code",
   "execution_count": 10,
   "metadata": {},
   "outputs": [
    {
     "name": "stdout",
     "output_type": "stream",
     "text": [
      "['Apple', 'Orange', 'Plum', 'Breadfruit', 'Banana', 'Pineapple', 'Kiwi', 'Cherry', 'Pear']\n"
     ]
    }
   ],
   "source": [
    "# Use a list comprehension to iterate over the list and \"strip()\" method to remove the leading and trailing whitespace from each string.\n",
    "clean_up_split_list = [word.strip() for word in  split_data_list]\n",
    "\n",
    "print(clean_up_split_list)"
   ]
  },
  {
   "cell_type": "code",
   "execution_count": null,
   "metadata": {},
   "outputs": [],
   "source": []
  },
  {
   "attachments": {},
   "cell_type": "markdown",
   "metadata": {},
   "source": [
    "**TODO Task 1: Create the class**\n",
    "**[] 1.1** Create a new script called `milestone_4.py`. This file will contain the code for the forth milestone.<br>\n",
    "**[] 1.2** Create a class called `Hangman`.<br>\n",
    "**[] 1.3** Inside the class, create an `__init__` method to initialise the attributes of the class. Pass in `word_list` and `num_lives` as parameters. Make `num_lives` a default parameter and set the value to `5`.<br>\n",
    "**[] 1.4** Initialise the following attributes:<br>\n",
    "+ a. `word`: The word to be guessed, picked randomly from the `word_list`. Remember to import the random module into your script.\n",
    "+ b. `word_guessed`: list - A list of the letters of the word, with `_` for each letter not yet guessed. For example, \n",
    "    ..if the word is 'apple', the `word_guessed` list would be `['_', '_', '_', '_', '_']`. If the player guesses 'a', the list would be `['a', '_', '_', '_', '_']`.\n",
    "+ c. `num_letters:` int - The number of UNIQUE letters in the word that have not been guessed yet.\n",
    "+ d. `num_lives:` int - The number of lives the player has at the start of the game.\n",
    "+ e. `word_list:` list - A list of words.\n",
    "+ f. `list_of_guesses:` list - A list of the guesses that have already been tried. Set this to an empty list initially."
   ]
  },
  {
   "attachments": {},
   "cell_type": "markdown",
   "metadata": {},
   "source": [
    "**TODO Task 2: Create the methods for running the checks**\n",
    "<br>In this task, you will create a method that will ask the user to guess a letter and another method that will check if the guess is in the word.<br>\n",
    " Remember that a method is a function that is defined inside a class.<br>\n",
    "\n",
    "**[] 2.1** Define a method called `check_guess`. Pass the `guess` to the method as a parameter. In the body of the method, write the code for the following steps:\n",
    "\n",
    "+ a. Convert the guessed letter to `lower` case.\n",
    "+ b. Create an `if` statement that checks if the `guess` is in the `word`.\n",
    "+ c. In the body of the `if` statement, `print` a message saying `\"Good guess! {guess} is in the word.\"`\n",
    "\n",
    "You will continue with the logic of the `check_guess` method in the next task. For now, let's create the `ask_for_input `method.\n",
    "\n",
    "**[] 2.2** Define a method called `ask_for_input.` In the body of the method, do the following:\n",
    "\n",
    "+ a. Create a `while` loop and set the condition to `True`.\n",
    "+ b. Ask the user to `input` a guess letter and assign this to a variable called `\"guess\"`.\n",
    "+ c. Create an `if` statement that runs if the guess is `NOT` a `single alphabetical character`.\n",
    "+ d. In the body of the `if` statement, `print` a message saying `\"Invalid letter. Please, enter a single alphabetical character.\"`\n",
    "+ e. Create an `elif` statement that checks if the `guess` is already `in` the `list_of_guesses`.\n",
    "+ f. In the body of the elif statement, `print` a message saying `\"You already tried that letter!\"`.\n",
    "\n",
    "If the guess is a single alphabetical character and it's not already in the `list_of_guesses`:\n",
    "\n",
    "+ a. Create an `else` block and call the `check_guess method`. **Remember to pass the guess as an argument to this method**.\n",
    "+ b. Add the `guess` to the ``list_of_guesses`.\n",
    "\n",
    "**[] 2.3**  Call the `ask_for_input` method to test your code.\n",
    "That was a lot! Keep going, you are almost there.\n",
    "\n"
   ]
  },
  {
   "attachments": {},
   "cell_type": "markdown",
   "metadata": {},
   "source": [
    "**TODO Task 3:** Define what happens if the letters is in the word<br>\n",
    "**[] 3.1** Return to your `check_guess` method and extend it to replace the underscore(s) in the `word_guessed` with the letter guesssed by the user.<br>\n",
    "\n",
    "In the `if` block of your `check_guess method`, after your `print` statement, do the following:\n",
    "\n",
    "+ a. Create a `for`-loop that will loop through each letter in the `word`.\n",
    "+ b. Within the `for`-loop, do the following:\n",
    "    * Create an `if` statement that checks if the letter is equal to the guess.\n",
    "    * In the if block, replace the corresponding `\"_\"` in the `word_guessed` with the guess. _HINT: You can index the word_guessed at the position of the letter and assign it to the letter._\n",
    "+ e. Outside the `for`-loop, reduce the variable `num_letters` by `1`."
   ]
  },
  {
   "attachments": {},
   "cell_type": "markdown",
   "metadata": {},
   "source": [
    "**TODO Task 4: Define what happens if the letter is NOT in the word**\n",
    "<br>Define what happens if the guess is not in the word you are trying to guess.<br>\n",
    "\n",
    "**[] 4.1** In the `check_guess` method, Create an `else` statement.<br>\n",
    "**[] 4.2** Within the `else` block:<br>\n",
    "+ a. Reduce `\"num_lives\"` by `1`.<br>\n",
    "+ b. `print` a message saying `\"Sorry, {letter} is not in the word.\"`<br>\n",
    "+ c. `print` another message saying `\"You have {num_lives} lives left.\"`<br>\n",
    "\n",
    "**[] 4.3** Lastly, `append` the `guess` to the `list_of_guesses`. Ensure you do this outside the `else` block so that the letter can be appended to the `list_of_guesses `in both conditions."
   ]
  },
  {
   "attachments": {},
   "cell_type": "markdown",
   "metadata": {},
   "source": [
    "**TODO Task 5: Update your documentation**<br>\n",
    "**[] 5.1** Add a section to your `README` file that explains how you defined the functions you created.<br>"
   ]
  }
 ],
 "metadata": {
  "kernelspec": {
   "display_name": "base",
   "language": "python",
   "name": "python3"
  },
  "language_info": {
   "codemirror_mode": {
    "name": "ipython",
    "version": 3
   },
   "file_extension": ".py",
   "mimetype": "text/x-python",
   "name": "python",
   "nbconvert_exporter": "python",
   "pygments_lexer": "ipython3",
   "version": "3.9.13 (main, Aug 25 2022, 18:29:29) \n[Clang 12.0.0 ]"
  },
  "orig_nbformat": 4,
  "vscode": {
   "interpreter": {
    "hash": "1c63fc448cbcef6ea75575590d1315f3aed7a7d40ffa8180ee43b982def9dff1"
   }
  }
 },
 "nbformat": 4,
 "nbformat_minor": 2
}
