{
 "cells": [
  {
   "cell_type": "code",
   "execution_count": null,
   "metadata": {},
   "outputs": [],
   "source": [
    "#Invalid letter selection error messages:\n",
    "err_msg_1 = \"Oops! That is not a valid input,\"\n",
    "err_msg_2 = \"please select only 1 [A-Z] letter\"\n",
    "\n",
    "# While loop used to ask for input and tests if input is a valid alphabet letter.\n",
    "# Loop controlled by \"valid_guess\" variable, when it is \"No\", loop stays True and continues.\n",
    "vaild_guess = \"No\"\n",
    "while vaild_guess != \"Yes\":\n",
    "    guess = input(\"Please select one letter or type 'quite' to end game:: \").strip()\n",
    "    if guess.isnumeric() == True:\n",
    "        print(err_msg_1)\n",
    "        print(err_msg_1)\n",
    "        vaild_guess = \"No\"\n",
    "    elif guess == guess.lower() == \"quite\":\n",
    "        print(\"Ok game will quite!\")\n",
    "        break\n",
    "    elif guess.isalpha() == False:\n",
    "        print(err_msg_1)\n",
    "        print(err_msg_1)\n",
    "        vaild_guess = \"No\"\n",
    "    elif len(guess) > 1:\n",
    "        print(\"Only one [A to Z] letter allowed\")\n",
    "        print(err_msg_1)\n",
    "        print(err_msg_1)\n",
    "    else:\n",
    "        print(\"great choice\")\n",
    "        vaild_guess = \"Yes\""
   ]
  }
 ],
 "metadata": {
  "kernelspec": {
   "display_name": "base",
   "language": "python",
   "name": "python3"
  },
  "language_info": {
   "codemirror_mode": {
    "name": "ipython",
    "version": 3
   },
   "file_extension": ".py",
   "mimetype": "text/x-python",
   "name": "python",
   "nbconvert_exporter": "python",
   "pygments_lexer": "ipython3",
   "version": "3.9.13"
  },
  "orig_nbformat": 4,
  "vscode": {
   "interpreter": {
    "hash": "1c63fc448cbcef6ea75575590d1315f3aed7a7d40ffa8180ee43b982def9dff1"
   }
  }
 },
 "nbformat": 4,
 "nbformat_minor": 2
}
