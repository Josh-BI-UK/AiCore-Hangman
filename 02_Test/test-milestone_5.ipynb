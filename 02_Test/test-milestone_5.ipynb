{
 "cells": [
  {
   "attachments": {},
   "cell_type": "markdown",
   "metadata": {},
   "source": [
    "<font size = 3> AiCore Project </font><br> \n",
    "<font size = 2> Python coding project by: [Joshua Payne](https://github.com/Josh-BI-UK) </font>\n",
    "\n",
    "# Hangman Game - Milestone 5 - Pull it all together\n",
    "The class is already prepared. Now the game starts\n",
    "<br> ---<br>\n",
    "<font size=1><b>\n",
    "Denotes:<br><i>\n",
    "[✔︎] = completed task.<br> \n",
    "[ ] = uncompleted task.\n",
    "</b></i></font>\n",
    "<br> ---<br>"
   ]
  },
  {
   "cell_type": "code",
   "execution_count": 1,
   "metadata": {},
   "outputs": [],
   "source": [
    "# Import prerequisite modules, i.e. \"random\" module.\n",
    "import random "
   ]
  },
  {
   "cell_type": "code",
   "execution_count": 2,
   "metadata": {},
   "outputs": [
    {
     "name": "stdout",
     "output_type": "stream",
     "text": [
      "['Apple', 'Orange', 'Plum', 'Breadfruit', 'Banana', 'Pineapples', 'Kiwis', 'Cherries', 'Strawberry', 'Lychee']\n"
     ]
    }
   ],
   "source": [
    "# Create \"word_list variable\"\n",
    "WORD_LIST = ['Apple','Orange','Plum','Breadfruit','Banana','Pineapples','Kiwis','Cherries','Strawberry','Lychee']\n",
    "print(WORD_LIST)"
   ]
  },
  {
   "attachments": {},
   "cell_type": "markdown",
   "metadata": {},
   "source": [
    "**TODO Task 1: Code logic for game**<br>\n",
    "\n",
    "Create a function that will run all the code to run the game as expected. You should begin by creating a new script called `milestone_5.py`. Copy all the codes in milestone_4.py file into the newly created `milestone_5.py` file.\n",
    "\n",
    "**[✔︎] 1.1** Create a function called `play_game` that takes `word_list` as a parameter. Inside the function, write the code for the following steps\n",
    "+ [✔︎]a: Create an instance of the `Hangman` class. Do this by calling the `Hangman` class and assign it to a variable called game.\n",
    "+ [✔︎]b:  Pass `word_list` and `num_lives` as arguments to the game object.\n",
    "+ [✔︎]c: Create a while loop and set the condition to `True`. In the body of the loop, do the following:\n",
    "\n",
    "+ [✔︎]a.: Check if the `num_lives` is 0. If it is, that means the game has ended and the user lost. Print a message saying 'You lost!'.\n",
    "+ [✔︎]b: Next, check if the `num_letters` is greater than 0. In this case, you would want to continue the game, so you need to call the `ask_for_input` method. \n",
    "+ [✔︎]c: If the `num_lives` is not 0 and the `num_letters` is not greater than 0, that means the user has won the game. Print a message saying 'Congratulations. You won the game!'.\n",
    "\n",
    "**[✔︎] 1.2** Outside the function, call your `play_game` function to play your game. Don't forget to pass in your list of words as argument to the function."
   ]
  },
  {
   "cell_type": "code",
   "execution_count": 3,
   "metadata": {},
   "outputs": [],
   "source": [
    "class Hangman:\n",
    "    def __init__(self,word_list= WORD_LIST,num_lives= 5):\n",
    "        self.word_list = word_list\n",
    "        self.num_lives = num_lives\n",
    "        self.word = random.choice(word_list).lower() # commented out during testing\n",
    "        self.words_guessed = list(\"_\"*len(self.word))\n",
    "        self.num_letters = len(set(self.word))\n",
    "        self.num_lives = num_lives\n",
    "        self.list_of_guesses = []\n",
    "\n",
    "  \n",
    "    def ask_for_input(self):\n",
    "        # Create invaild letter seslection - error messages\n",
    "        err_msg_1 = \"Invalid letter,\"\n",
    "        err_msg_2 = \"Please, enter a single alphabetical character.\"\n",
    "        \n",
    "        while True:\n",
    "            self.guess = input(\"Please select one letter or type 'quit' to end game: \").strip()\n",
    "            self.guess = self.guess.lower()\n",
    "\n",
    "            if not(self.guess.isalpha() and len(self.guess)==1):\n",
    "                print(err_msg_1)\n",
    "                print(err_msg_2,end='\\n')\n",
    "\n",
    "            elif self.guess in self.list_of_guesses:\n",
    "                 print(\"You already tried that letter!\")\n",
    "                 print(\"Try a different guess!\",end='\\n')\n",
    "\n",
    "            elif self.guess == \"quit\":\n",
    "                print(\"Ok game will quit!\")\n",
    "                break\n",
    "            \n",
    "            else:\n",
    "                print(\"Thank you!\")\n",
    "                print(\"==> Checking secret word now....\",end='\\n\\n')\n",
    "                self.check_guess(self.guess)\n",
    "                break\n",
    "\n",
    "    def check_guess(self, guess):\n",
    "        if self.guess in self.word:\n",
    "            print(f\"Good guess!: '{self.guess}' is in the word.\",end='\\n')\n",
    "            self.num_letters = self.num_letters -1\n",
    "            for xIndex, xLetter in enumerate(self.word):\n",
    "                if xLetter == self.guess:\n",
    "                    self.words_guessed[xIndex] = self.guess\n",
    "                    #print(f\"Secret Word: {self.words_guessed}\")\n",
    "                    #print(\"~ ~ ~ ~ ~ ~ ~ ~ ~\",end='\\n')\n",
    "                #else:\n",
    "                   #break\n",
    "        else:\n",
    "            print(f\"Sorry, '{self.guess}' is not in the secret word.\")\n",
    "            self.num_lives = self.num_lives - 1\n",
    "            \n",
    "        self.list_of_guesses.append(self.guess)\n",
    "        print(f\"==> Letters guessed so far: \",set(self.list_of_guesses),end='\\n')\n",
    "        print(\"~ ~ ~ ~ ~ ~ ~ ~ ~\",end='\\n')\n",
    "        print(f\"Secret Word: {self.words_guessed}\")\n",
    "        print(\"~ ~ ~ ~ ~ ~ ~ ~ ~\",end='\\n')\n",
    "        print(f\"You have: {self.num_lives} lives remaining.\",end='\\n')\n",
    "        print(f\"You have: {self.num_letters} letters still to guess.\",end='\\n')\n",
    "\n",
    "            "
   ]
  },
  {
   "cell_type": "code",
   "execution_count": 4,
   "metadata": {},
   "outputs": [],
   "source": [
    "# def play_game(self,word_list=None,num_lives=None):\n",
    "#     self.game = self.Hangman()\n",
    "#     while True:\n",
    "#         if not(self.game.num_lives <= 0 and self.game.num_letters < 0):\n",
    "#             self.game.ask_for_input()\n",
    "#         elif self.game.num_lives == 0:\n",
    "#             print(f\"You have {self.game.num_lives} more lives left, you lose!!\\n\")\n",
    "#             print(f\"(•́︿•̀)\")\n",
    "#         else:\n",
    "#             print(f\"You have {self.game.num_lives} letters to guess. Congratulations. You won the game!!!\\n\")\n",
    "#             print(f\"\\t◝(ᵔᵕᵔ)◜\")\n",
    "#             break"
   ]
  },
  {
   "cell_type": "code",
   "execution_count": 7,
   "metadata": {},
   "outputs": [],
   "source": [
    "def play_game(word_list=None,num_lives=None):\n",
    "    game = Hangman()\n",
    "    replay_game = True\n",
    "    while replay_game == True:\n",
    "        if game.num_lives > 0 and game.num_letters > 0:\n",
    "            game.ask_for_input()\n",
    "        elif game.num_lives == 0:\n",
    "            print(f\"You have {game.num_lives} more lives left, you lose!!\\n\")\n",
    "            print(f\"(•́︿•̀)\")\n",
    "            replay_game = False\n",
    "        else:\n",
    "            print(\"^ ~ ^ ~ ^ ~ ^ ~ ^\",end='\\n')\n",
    "            print(f\"You have {game.num_lives} letters to guess. Congratulations. You won the game!!!\\n\")\n",
    "            print(f\"\\t◝(ᵔᵕᵔ)◜\")\n",
    "            break"
   ]
  },
  {
   "cell_type": "code",
   "execution_count": null,
   "metadata": {},
   "outputs": [],
   "source": [
    "# word_list = ['Apple','Orange','Plum','Breadfruit','Banana','Pineapples','Kiwis','Cherries','Strawberry','Lychee']\n",
    "word_list = \"Apple\".lower() # For testing purposes, this word has been hardcoded in.\n",
    "play_game(word_list)"
   ]
  },
  {
   "attachments": {},
   "cell_type": "markdown",
   "metadata": {},
   "source": [
    "**TODO Task 2: Document your experience**<br>\n",
    "**[] 2.1** Add a section to your `README` file that explains how you defined the whole game and the logic behind it.<br>"
   ]
  }
 ],
 "metadata": {
  "kernelspec": {
   "display_name": "base",
   "language": "python",
   "name": "python3"
  },
  "language_info": {
   "codemirror_mode": {
    "name": "ipython",
    "version": 3
   },
   "file_extension": ".py",
   "mimetype": "text/x-python",
   "name": "python",
   "nbconvert_exporter": "python",
   "pygments_lexer": "ipython3",
   "version": "3.9.13 (main, Aug 25 2022, 18:29:29) \n[Clang 12.0.0 ]"
  },
  "orig_nbformat": 4,
  "vscode": {
   "interpreter": {
    "hash": "1c63fc448cbcef6ea75575590d1315f3aed7a7d40ffa8180ee43b982def9dff1"
   }
  }
 },
 "nbformat": 4,
 "nbformat_minor": 2
}
